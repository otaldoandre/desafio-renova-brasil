{
 "cells": [
  {
   "cell_type": "code",
   "execution_count": 1,
   "id": "76e354f1",
   "metadata": {
    "tags": []
   },
   "outputs": [],
   "source": [
    "import pandas as pd"
   ]
  },
  {
   "cell_type": "code",
   "execution_count": 2,
   "id": "be4f4af9-61ee-43d8-aa05-6f3f3e3f894c",
   "metadata": {
    "tags": []
   },
   "outputs": [],
   "source": [
    "df_eleitorados = pd.read_csv(\"eleitorado/perfil_eleitorado_2020/perfil_eleitorado_2020.csv\", encoding=\"Latin 1\", quotechar='\"', sep=\";\"  )"
   ]
  },
  {
   "cell_type": "code",
   "execution_count": 3,
   "id": "3efe9bcc-ffdf-49ef-b1da-de41f360e8ce",
   "metadata": {
    "tags": []
   },
   "outputs": [],
   "source": [
    "df_resultados = pd.read_csv(\"test.csv\", encoding=\"Latin 1\", on_bad_lines='skip', quotechar='\"', sep=\";\")"
   ]
  },
  {
   "cell_type": "code",
   "execution_count": 4,
   "id": "f61c4acd-25a3-41bf-a52d-25d65a7e0af2",
   "metadata": {
    "tags": []
   },
   "outputs": [],
   "source": [
    "col_nao_necessarias_eleitorados = [\"DT_GERACAO\", \"HH_GERACAO\", \"ANO_ELEICAO\", \"CD_MUN_SIT_BIOMETRIA\", \"DS_MUN_SIT_BIOMETRIA\", \"QT_ELEITORES_BIOMETRIA\", \"QT_ELEITORES_DEFICIENCIA\", \"QT_ELEITORES_INC_NM_SOCIAL\", \"SG_UF\"]\n",
    "col_nao_necessarias_resultados = [\"DT_GERACAO\", \"HH_GERACAO\", \"ANO_ELEICAO\", \"CD_TIPO_ELEICAO\", \"NM_TIPO_ELEICAO\", \"DT_PLEITO\", \"NR_TURNO\", \"DS_ELEICAO\", \"SG_UF\", \"DS_CARGO_PERGUNTA\", \"DT_BU_RECEBIDO\", \"QT_ABSTENCOES\", \"CD_TIPO_URNA\", \"DS_TIPO_URNA\", \"NR_URNA_EFETIVADA\", \"CD_CARGA_1_URNA_EFETIVADA\", \"CD_CARGA_2_URNA_EFETIVADA\", \"CD_FLASHCARD_URNA_EFETIVADA\", \"DT_CARGA_URNA_EFETIVADA\", \"DS_AGREGADAS\", \"DT_ABERTURA\", \"DT_ENCERRAMENTO\", \"QT_ELEITORES_BIOMETRIA_NH\", \"NR_JUNTA_APURADORA\", \"NR_TURMA_APURADORA\", \"DT_EMISSAO_BU\"]\n"
   ]
  },
  {
   "cell_type": "code",
   "execution_count": 5,
   "id": "e4632574-ca04-4513-ba5b-6d858acce46b",
   "metadata": {
    "tags": []
   },
   "outputs": [],
   "source": [
    "for col in col_nao_necessarias_eleitorados:\n",
    "    df_eleitorados = df_eleitorados.drop(col, axis=1)"
   ]
  },
  {
   "cell_type": "code",
   "execution_count": 6,
   "id": "80326370-9274-45e9-a271-5e12ea6fc84c",
   "metadata": {
    "tags": []
   },
   "outputs": [],
   "source": [
    "for col_ in col_nao_necessarias_resultados:\n",
    "    df_resultados = df_resultados.drop(col_, axis=1)"
   ]
  },
  {
   "cell_type": "markdown",
   "id": "7449d06c-04da-4ae7-a1bf-3037c0c44518",
   "metadata": {
    "tags": []
   },
   "source": [
    "### Query 1 - Em qual município o candidato X foi mais votado;\n"
   ]
  },
  {
   "cell_type": "code",
   "execution_count": 18,
   "id": "386858f3-acd2-4445-a39b-08cf5668e1f5",
   "metadata": {
    "tags": []
   },
   "outputs": [],
   "source": [
    "candidato_x = \"BRUNO COVAS\"\n"
   ]
  },
  {
   "cell_type": "code",
   "execution_count": 20,
   "id": "c111bc2f-739f-4e99-a763-86fbe132ec5e",
   "metadata": {
    "tags": []
   },
   "outputs": [
    {
     "name": "stdout",
     "output_type": "stream",
     "text": [
      "Index(['CD_MUNICIPIO', 'NM_MUNICIPIO', 'NR_ZONA', 'CD_GENERO', 'DS_GENERO',\n",
      "       'CD_ESTADO_CIVIL', 'DS_ESTADO_CIVIL', 'CD_FAIXA_ETARIA',\n",
      "       'DS_FAIXA_ETARIA', 'CD_GRAU_ESCOLARIDADE', 'DS_GRAU_ESCOLARIDADE',\n",
      "       'QT_ELEITORES_PERFIL'],\n",
      "      dtype='object')\n"
     ]
    }
   ],
   "source": [
    "print(df_eleitorados.columns)"
   ]
  },
  {
   "cell_type": "code",
   "execution_count": null,
   "id": "99bede89-f53d-4cb7-a7f2-3c7dc0256229",
   "metadata": {},
   "outputs": [],
   "source": []
  },
  {
   "cell_type": "code",
   "execution_count": null,
   "id": "8fb78203-ae0d-4967-acb2-f217c256d8fc",
   "metadata": {},
   "outputs": [],
   "source": []
  },
  {
   "cell_type": "code",
   "execution_count": null,
   "id": "33bbf427-bae9-417a-9262-7aba31446a60",
   "metadata": {},
   "outputs": [],
   "source": []
  },
  {
   "cell_type": "code",
   "execution_count": 14,
   "id": "13f0deed-500a-4137-a48e-b938e5c2bfd2",
   "metadata": {
    "tags": []
   },
   "outputs": [
    {
     "name": "stdout",
     "output_type": "stream",
     "text": [
      "    CD_PLEITO  CD_ELEICAO  CD_MUNICIPIO NM_MUNICIPIO  NR_ZONA  NR_SECAO  \\\n",
      "1         304         426         71072  Sï¿½O PAULO        1         1   \n",
      "2         304         426         71072  Sï¿½O PAULO        1         1   \n",
      "3         304         426         71072  Sï¿½O PAULO        1         1   \n",
      "4         304         426         71072  Sï¿½O PAULO        1         1   \n",
      "5         304         426         71072  Sï¿½O PAULO        1         1   \n",
      "..        ...         ...           ...          ...      ...       ...   \n",
      "81        304         426         71072  Sï¿½O PAULO        1         1   \n",
      "82        304         426         71072  Sï¿½O PAULO        1         1   \n",
      "83        304         426         71072  Sï¿½O PAULO        1         1   \n",
      "84        304         426         71072  Sï¿½O PAULO        1         1   \n",
      "85        304         426         71072  Sï¿½O PAULO        1         1   \n",
      "\n",
      "    NR_LOCAL_VOTACAO  CD_CARGO_PERGUNTA  NR_PARTIDO SG_PARTIDO  \\\n",
      "1               1015                 11          13         PT   \n",
      "2               1015                 11          18       REDE   \n",
      "3               1015                 11          40        PSB   \n",
      "4               1015                 11          45       PSDB   \n",
      "5               1015                 11          17        PSL   \n",
      "..               ...                ...         ...        ...   \n",
      "81              1015                 13          45       PSDB   \n",
      "82              1015                 13          65    PC do B   \n",
      "83              1015                 13          23  CIDADANIA   \n",
      "84              1015                 13          50       PSOL   \n",
      "85              1015                 13          19       PODE   \n",
      "\n",
      "                                 NM_PARTIDO  QT_APTOS  QT_COMPARECIMENTO  \\\n",
      "1                 Partido dos Trabalhadores       386                241   \n",
      "2                     Rede Sustentabilidade       386                241   \n",
      "3             Partido Socialista Brasileiro       386                241   \n",
      "4   Partido da Social Democracia Brasileira       386                241   \n",
      "5                    Partido Social Liberal       386                241   \n",
      "..                                      ...       ...                ...   \n",
      "81  Partido da Social Democracia Brasileira       386                241   \n",
      "82              Partido Comunista do Brasil       386                241   \n",
      "83                                Cidadania       386                241   \n",
      "84           Partido Socialismo e Liberdade       386                241   \n",
      "85                                  Podemos       386                241   \n",
      "\n",
      "    CD_TIPO_VOTAVEL DS_TIPO_VOTAVEL  NR_VOTAVEL  \\\n",
      "1                 1         Nominal          13   \n",
      "2                 1         Nominal          18   \n",
      "3                 1         Nominal          40   \n",
      "4                 1         Nominal          45   \n",
      "5                 1         Nominal          17   \n",
      "..              ...             ...         ...   \n",
      "81                1         Nominal       45123   \n",
      "82                1         Nominal       65613   \n",
      "83                1         Nominal       23023   \n",
      "84                1         Nominal       50020   \n",
      "85                1         Nominal       19067   \n",
      "\n",
      "                         NM_VOTAVEL  QT_VOTOS DS_CARGO_PERGUNTA_SECAO  \\\n",
      "1                      JILMAR TATTO         4                  11 - 1   \n",
      "2                      MARINA HELOU         1                  11 - 1   \n",
      "3                 Mï¿½RCIO FRANï¿½A        29                  11 - 1   \n",
      "4                       BRUNO COVAS       111                  11 - 1   \n",
      "5                  JOICE HASSELMANN         2                  11 - 1   \n",
      "..                              ...       ...                     ...   \n",
      "81                          TRIPOLI         1                  13 - 1   \n",
      "82                    CAMILA AGUIAR         1                  13 - 1   \n",
      "83                 SONINHA FRANCINE         2                  13 - 1   \n",
      "84  ELAINE DO QUILOMBO PERIFï¿½RICO         2                  13 - 1   \n",
      "85         LUIZ PROTEï¿½ï¿½O ANIMAL         1                  13 - 1   \n",
      "\n",
      "          DT_EMISSAO_BU  \n",
      "1   15/11/2020 17:04:06  \n",
      "2   15/11/2020 17:04:06  \n",
      "3   15/11/2020 17:04:06  \n",
      "4   15/11/2020 17:04:06  \n",
      "5   15/11/2020 17:04:06  \n",
      "..                  ...  \n",
      "81  15/11/2020 17:04:06  \n",
      "82  15/11/2020 17:04:06  \n",
      "83  15/11/2020 17:04:06  \n",
      "84  15/11/2020 17:04:06  \n",
      "85  15/11/2020 17:04:06  \n",
      "\n",
      "[83 rows x 20 columns]\n"
     ]
    }
   ],
   "source": []
  },
  {
   "cell_type": "code",
   "execution_count": null,
   "id": "21479e91-ad50-4314-b1d4-fe6db68341bb",
   "metadata": {},
   "outputs": [],
   "source": []
  },
  {
   "cell_type": "code",
   "execution_count": null,
   "id": "63bd2b5c-f10f-49b5-8dce-6cceae54a690",
   "metadata": {},
   "outputs": [],
   "source": []
  },
  {
   "cell_type": "code",
   "execution_count": null,
   "id": "1ede430c-ea67-47a1-aa5f-62a357a9c3e9",
   "metadata": {},
   "outputs": [],
   "source": []
  },
  {
   "cell_type": "code",
   "execution_count": null,
   "id": "a0ddd272-623f-452e-9881-a78acfc4bbca",
   "metadata": {},
   "outputs": [],
   "source": []
  },
  {
   "cell_type": "code",
   "execution_count": null,
   "id": "b7591144-6c44-4aba-8bed-65619e00329f",
   "metadata": {},
   "outputs": [],
   "source": []
  },
  {
   "cell_type": "code",
   "execution_count": null,
   "id": "b04cc0f4-7c85-46bb-aae1-da79d4452676",
   "metadata": {},
   "outputs": [],
   "source": []
  },
  {
   "cell_type": "code",
   "execution_count": null,
   "id": "790ac48e-279b-40a0-ae96-ea034fe89125",
   "metadata": {},
   "outputs": [],
   "source": []
  }
 ],
 "metadata": {
  "kernelspec": {
   "display_name": "Python 3 (ipykernel)",
   "language": "python",
   "name": "python3"
  },
  "language_info": {
   "codemirror_mode": {
    "name": "ipython",
    "version": 3
   },
   "file_extension": ".py",
   "mimetype": "text/x-python",
   "name": "python",
   "nbconvert_exporter": "python",
   "pygments_lexer": "ipython3",
   "version": "3.11.4"
  }
 },
 "nbformat": 4,
 "nbformat_minor": 5
}
