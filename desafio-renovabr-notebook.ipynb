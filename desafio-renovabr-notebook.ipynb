{
 "cells": [
  {
   "cell_type": "code",
   "execution_count": 2,
   "id": "76e354f1",
   "metadata": {},
   "outputs": [],
   "source": [
    "import pandas as pd"
   ]
  },
  {
   "cell_type": "code",
   "execution_count": 3,
   "id": "2ed58555",
   "metadata": {},
   "outputs": [],
   "source": [
    "df_eleitorados = pd.read_csv(\"eleitorado/perfil_eleitorado_2020/perfil_eleitorado_2020.csv\", encoding=\"Latin 1\")"
   ]
  },
  {
   "cell_type": "code",
   "execution_count": 4,
   "id": "b75a16c7",
   "metadata": {},
   "outputs": [],
   "source": [
    "df_resultados = pd.read_csv(\"resultados/SP_turno_1.csv\", encoding=\"Latin 1\", on_bad_lines='skip')"
   ]
  },
  {
   "cell_type": "code",
   "execution_count": 10,
   "id": "de56bd5f",
   "metadata": {},
   "outputs": [
    {
     "name": "stdout",
     "output_type": "stream",
     "text": [
      "        DT_GERACAO;\"HH_GERACAO\";\"ANO_ELEICAO\";\"SG_UF\";\"CD_MUNICIPIO\";\"NM_MUNICIPIO\";\"CD_MUN_SIT_BIOMETRIA\";\"DS_MUN_SIT_BIOMETRIA\";\"NR_ZONA\";\"CD_GENERO\";\"DS_GENERO\";\"CD_ESTADO_CIVIL\";\"DS_ESTADO_CIVIL\";\"CD_FAIXA_ETARIA\";\"DS_FAIXA_ETARIA\";\"CD_GRAU_ESCOLARIDADE\";\"DS_GRAU_ESCOLARIDADE\";\"QT_ELEITORES_PERFIL\";\"QT_ELEITORES_BIOMETRIA\";\"QT_ELEITORES_DEFICIENCIA\";\"QT_ELEITORES_INC_NM_SOCIAL\"\n",
      "0        01/08/2020;\"08:37:48\";\"2020\";\"SP\";\"70734\";\"SÃO...                                                                                                                                                                                                                                                                                                                                      \n",
      "1        01/08/2020;\"08:37:48\";\"2020\";\"SP\";\"70734\";\"SÃO...                                                                                                                                                                                                                                                                                                                                      \n",
      "2        01/08/2020;\"08:37:48\";\"2020\";\"SP\";\"70734\";\"SÃO...                                                                                                                                                                                                                                                                                                                                      \n",
      "3        01/08/2020;\"08:37:48\";\"2020\";\"SP\";\"70734\";\"SÃO...                                                                                                                                                                                                                                                                                                                                      \n",
      "4        01/08/2020;\"08:37:48\";\"2020\";\"SP\";\"70734\";\"SÃO...                                                                                                                                                                                                                                                                                                                                      \n",
      "...                                                    ...                                                                                                                                                                                                                                                                                                                                      \n",
      "4248502  01/08/2020;\"08:37:48\";\"2020\";\"PR\";\"74349\";\"FLO...                                                                                                                                                                                                                                                                                                                                      \n",
      "4248503  01/08/2020;\"08:37:48\";\"2020\";\"PR\";\"74349\";\"FLO...                                                                                                                                                                                                                                                                                                                                      \n",
      "4248504  01/08/2020;\"08:37:48\";\"2020\";\"PR\";\"74349\";\"FLO...                                                                                                                                                                                                                                                                                                                                      \n",
      "4248505  01/08/2020;\"08:37:48\";\"2020\";\"PR\";\"74349\";\"FLO...                                                                                                                                                                                                                                                                                                                                      \n",
      "4248506  01/08/2020;\"08:37:48\";\"2020\";\"PR\";\"74349\";\"FLO...                                                                                                                                                                                                                                                                                                                                      \n",
      "\n",
      "[4248507 rows x 1 columns]\n",
      "        DT_GERACAO;\"HH_GERACAO\";\"ANO_ELEICAO\";\"CD_TIPO_ELEICAO\";\"NM_TIPO_ELEICAO\";\"CD_PLEITO\";\"DT_PLEITO\";\"NR_TURNO\";\"CD_ELEICAO\";\"DS_ELEICAO\";\"SG_UF\";\"CD_MUNICIPIO\";\"NM_MUNICIPIO\";\"NR_ZONA\";\"NR_SECAO\";\"NR_LOCAL_VOTACAO\";\"CD_CARGO_PERGUNTA\";\"DS_CARGO_PERGUNTA\";\"NR_PARTIDO\";\"SG_PARTIDO\";\"NM_PARTIDO\";\"DT_BU_RECEBIDO\";\"QT_APTOS\";\"QT_COMPARECIMENTO\";\"QT_ABSTENCOES\";\"CD_TIPO_URNA\";\"DS_TIPO_URNA\";\"CD_TIPO_VOTAVEL\";\"DS_TIPO_VOTAVEL\";\"NR_VOTAVEL\";\"NM_VOTAVEL\";\"QT_VOTOS\";\"NR_URNA_EFETIVADA\";\"CD_CARGA_1_URNA_EFETIVADA\";\"CD_CARGA_2_URNA_EFETIVADA\";\"CD_FLASHCARD_URNA_EFETIVADA\";\"DT_CARGA_URNA_EFETIVADA\";\"DS_CARGO_PERGUNTA_SECAO\";\"DS_AGREGADAS\";\"DT_ABERTURA\";\"DT_ENCERRAMENTO\";\"QT_ELEITORES_BIOMETRIA_NH\";\"DT_EMISSAO_BU\";\"NR_JUNTA_APURADORA\";\"NR_TURMA_APURADORA\"\n",
      "0        18/11/2020;\"15:49:53\";\"2020\";\"0\";\"Eleição Ordi...                                                                                                                                                                                                                                                                                                                                                                                                                                                                                                                                                                                                                                                                                                                           \n",
      "1        18/11/2020;\"15:49:53\";\"2020\";\"0\";\"Eleição Ordi...                                                                                                                                                                                                                                                                                                                                                                                                                                                                                                                                                                                                                                                                                                                           \n",
      "2        18/11/2020;\"15:49:53\";\"2020\";\"0\";\"Eleição Ordi...                                                                                                                                                                                                                                                                                                                                                                                                                                                                                                                                                                                                                                                                                                                           \n",
      "3        18/11/2020;\"15:49:53\";\"2020\";\"0\";\"Eleição Ordi...                                                                                                                                                                                                                                                                                                                                                                                                                                                                                                                                                                                                                                                                                                                           \n",
      "4        18/11/2020;\"15:49:53\";\"2020\";\"0\";\"Eleição Ordi...                                                                                                                                                                                                                                                                                                                                                                                                                                                                                                                                                                                                                                                                                                                           \n",
      "...                                                    ...                                                                                                                                                                                                                                                                                                                                                                                                                                                                                                                                                                                                                                                                                                                           \n",
      "9433304  18/11/2020;\"15:49:53\";\"2020\";\"0\";\"Eleição Ordi...                                                                                                                                                                                                                                                                                                                                                                                                                                                                                                                                                                                                                                                                                                                           \n",
      "9433305  18/11/2020;\"15:49:53\";\"2020\";\"0\";\"Eleição Ordi...                                                                                                                                                                                                                                                                                                                                                                                                                                                                                                                                                                                                                                                                                                                           \n",
      "9433306  18/11/2020;\"15:49:53\";\"2020\";\"0\";\"Eleição Ordi...                                                                                                                                                                                                                                                                                                                                                                                                                                                                                                                                                                                                                                                                                                                           \n",
      "9433307  18/11/2020;\"15:49:53\";\"2020\";\"0\";\"Eleição Ordi...                                                                                                                                                                                                                                                                                                                                                                                                                                                                                                                                                                                                                                                                                                                           \n",
      "9433308  18/11/2020;\"15:49:53\";\"2020\";\"0\";\"Eleição Ordi...                                                                                                                                                                                                                                                                                                                                                                                                                                                                                                                                                                                                                                                                                                                           \n",
      "\n",
      "[9433309 rows x 1 columns]\n"
     ]
    }
   ],
   "source": [
    "print(df_eleitorados)\n",
    "print(df_resultados)"
   ]
  }
 ],
 "metadata": {
  "kernelspec": {
   "display_name": "Python 3 (ipykernel)",
   "language": "python",
   "name": "python3"
  },
  "language_info": {
   "codemirror_mode": {
    "name": "ipython",
    "version": 3
   },
   "file_extension": ".py",
   "mimetype": "text/x-python",
   "name": "python",
   "nbconvert_exporter": "python",
   "pygments_lexer": "ipython3",
   "version": "3.11.4"
  }
 },
 "nbformat": 4,
 "nbformat_minor": 5
}
