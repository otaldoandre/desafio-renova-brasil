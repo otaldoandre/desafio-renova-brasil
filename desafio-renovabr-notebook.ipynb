{
 "cells": [
  {
   "cell_type": "code",
   "execution_count": 1,
   "id": "76e354f1",
   "metadata": {
    "tags": []
   },
   "outputs": [],
   "source": [
    "import pandas as pd"
   ]
  },
  {
   "cell_type": "code",
   "execution_count": 2,
   "id": "be4f4af9-61ee-43d8-aa05-6f3f3e3f894c",
   "metadata": {
    "tags": []
   },
   "outputs": [],
   "source": [
    "df_eleitorados = pd.read_csv(\"eleitorado/perfil_eleitorado_2020/perfil_eleitorado_2020.csv\", encoding=\"Latin 1\", quotechar='\"', sep=\";\"  )"
   ]
  },
  {
   "cell_type": "code",
   "execution_count": 3,
   "id": "3efe9bcc-ffdf-49ef-b1da-de41f360e8ce",
   "metadata": {
    "tags": []
   },
   "outputs": [],
   "source": [
    "df_resultados = pd.read_csv(\"test.csv\", encoding=\"Latin 1\", on_bad_lines='skip', quotechar='\"', sep=\";\")"
   ]
  },
  {
   "cell_type": "code",
   "execution_count": 4,
   "id": "f61c4acd-25a3-41bf-a52d-25d65a7e0af2",
   "metadata": {
    "tags": []
   },
   "outputs": [],
   "source": [
    "col_nao_necessarias_eleitorados = [\"DT_GERACAO\", \"HH_GERACAO\", \"ANO_ELEICAO\", \"CD_MUN_SIT_BIOMETRIA\", \"DS_MUN_SIT_BIOMETRIA\", \"QT_ELEITORES_BIOMETRIA\", \"QT_ELEITORES_DEFICIENCIA\", \"QT_ELEITORES_INC_NM_SOCIAL\", \"SG_UF\"]\n",
    "col_nao_necessarias_resultados = [\"DT_GERACAO\", \"HH_GERACAO\", \"ANO_ELEICAO\", \"CD_TIPO_ELEICAO\", \"NM_TIPO_ELEICAO\", \"DT_PLEITO\", \"NR_TURNO\", \"DS_ELEICAO\", \"SG_UF\", \"DS_CARGO_PERGUNTA\", \"DT_BU_RECEBIDO\", \"QT_ABSTENCOES\", \"CD_TIPO_URNA\", \"DS_TIPO_URNA\", \"NR_URNA_EFETIVADA\", \"CD_CARGA_1_URNA_EFETIVADA\", \"CD_CARGA_2_URNA_EFETIVADA\", \"CD_FLASHCARD_URNA_EFETIVADA\", \"DT_CARGA_URNA_EFETIVADA\", \"DS_AGREGADAS\", \"DT_ABERTURA\", \"DT_ENCERRAMENTO\", \"QT_ELEITORES_BIOMETRIA_NH\", \"NR_JUNTA_APURADORA\", \"NR_TURMA_APURADORA\"]\n"
   ]
  },
  {
   "cell_type": "code",
   "execution_count": 5,
   "id": "e4632574-ca04-4513-ba5b-6d858acce46b",
   "metadata": {
    "tags": []
   },
   "outputs": [],
   "source": [
    "for col in col_nao_necessarias_eleitorados:\n",
    "    df_eleitorados = df_eleitorados.drop(col, axis=1)"
   ]
  },
  {
   "cell_type": "code",
   "execution_count": 6,
   "id": "80326370-9274-45e9-a271-5e12ea6fc84c",
   "metadata": {
    "tags": []
   },
   "outputs": [],
   "source": [
    "for col_ in col_nao_necessarias_resultados:\n",
    "    df_resultados = df_resultados.drop(col_, axis=1)"
   ]
  },
  {
   "cell_type": "code",
   "execution_count": null,
   "id": "4ebe32bc-5a94-4213-8672-aef60f51515b",
   "metadata": {},
   "outputs": [],
   "source": []
  },
  {
   "cell_type": "code",
   "execution_count": null,
   "id": "63bd2b5c-f10f-49b5-8dce-6cceae54a690",
   "metadata": {},
   "outputs": [],
   "source": []
  },
  {
   "cell_type": "code",
   "execution_count": null,
   "id": "1ede430c-ea67-47a1-aa5f-62a357a9c3e9",
   "metadata": {},
   "outputs": [],
   "source": []
  },
  {
   "cell_type": "code",
   "execution_count": null,
   "id": "a0ddd272-623f-452e-9881-a78acfc4bbca",
   "metadata": {},
   "outputs": [],
   "source": []
  },
  {
   "cell_type": "code",
   "execution_count": null,
   "id": "b7591144-6c44-4aba-8bed-65619e00329f",
   "metadata": {},
   "outputs": [],
   "source": []
  },
  {
   "cell_type": "code",
   "execution_count": null,
   "id": "b04cc0f4-7c85-46bb-aae1-da79d4452676",
   "metadata": {},
   "outputs": [],
   "source": []
  },
  {
   "cell_type": "code",
   "execution_count": null,
   "id": "790ac48e-279b-40a0-ae96-ea034fe89125",
   "metadata": {},
   "outputs": [],
   "source": []
  }
 ],
 "metadata": {
  "kernelspec": {
   "display_name": "Python 3 (ipykernel)",
   "language": "python",
   "name": "python3"
  },
  "language_info": {
   "codemirror_mode": {
    "name": "ipython",
    "version": 3
   },
   "file_extension": ".py",
   "mimetype": "text/x-python",
   "name": "python",
   "nbconvert_exporter": "python",
   "pygments_lexer": "ipython3",
   "version": "3.11.4"
  }
 },
 "nbformat": 4,
 "nbformat_minor": 5
}
