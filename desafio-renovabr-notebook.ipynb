{
 "cells": [
  {
   "cell_type": "code",
   "execution_count": 1,
   "id": "76e354f1",
   "metadata": {
    "tags": []
   },
   "outputs": [],
   "source": [
    "import pandas as pd"
   ]
  },
  {
   "cell_type": "code",
   "execution_count": 2,
   "id": "be4f4af9-61ee-43d8-aa05-6f3f3e3f894c",
   "metadata": {
    "tags": []
   },
   "outputs": [],
   "source": [
    "df_eleitorados = pd.read_csv(\"eleitorado/perfil_eleitorado_2020/perfil_eleitorado_2020.csv\", encoding=\"Latin 1\", quotechar='\"', sep=\";\"  )"
   ]
  },
  {
   "cell_type": "code",
   "execution_count": 3,
   "id": "3efe9bcc-ffdf-49ef-b1da-de41f360e8ce",
   "metadata": {
    "tags": []
   },
   "outputs": [],
   "source": [
    "df_resultados = pd.read_csv(\"resultados/SP_turno_1.csv\", encoding=\"Latin 1\", on_bad_lines='skip', quotechar='\"', sep=\";\")"
   ]
  },
  {
   "cell_type": "markdown",
   "id": "1dce25f0-edb9-45bd-b0bb-d472b80fc699",
   "metadata": {},
   "source": [
    "### Tratar Dados"
   ]
  },
  {
   "cell_type": "code",
   "execution_count": 4,
   "id": "f61c4acd-25a3-41bf-a52d-25d65a7e0af2",
   "metadata": {
    "tags": []
   },
   "outputs": [],
   "source": [
    "col_nao_necessarias_eleitorados = [\"DT_GERACAO\", \"HH_GERACAO\", \"ANO_ELEICAO\", \"CD_MUN_SIT_BIOMETRIA\", \"DS_MUN_SIT_BIOMETRIA\", \"QT_ELEITORES_BIOMETRIA\", \"QT_ELEITORES_DEFICIENCIA\", \"QT_ELEITORES_INC_NM_SOCIAL\", \"SG_UF\"]\n",
    "col_nao_necessarias_resultados = [\"DT_GERACAO\", \"HH_GERACAO\", \"ANO_ELEICAO\", \"CD_TIPO_ELEICAO\", \"NM_TIPO_ELEICAO\", \"DT_PLEITO\", \"NR_TURNO\", \"DS_ELEICAO\", \"SG_UF\", \"DS_CARGO_PERGUNTA\", \"DT_BU_RECEBIDO\", \"QT_ABSTENCOES\", \"CD_TIPO_URNA\", \"DS_TIPO_URNA\", \"NR_URNA_EFETIVADA\", \"CD_CARGA_1_URNA_EFETIVADA\", \"CD_CARGA_2_URNA_EFETIVADA\", \"CD_FLASHCARD_URNA_EFETIVADA\", \"DT_CARGA_URNA_EFETIVADA\", \"DS_AGREGADAS\", \"DT_ABERTURA\", \"DT_ENCERRAMENTO\", \"QT_ELEITORES_BIOMETRIA_NH\", \"NR_JUNTA_APURADORA\", \"NR_TURMA_APURADORA\", \"DT_EMISSAO_BU\"]\n"
   ]
  },
  {
   "cell_type": "code",
   "execution_count": 5,
   "id": "e4632574-ca04-4513-ba5b-6d858acce46b",
   "metadata": {
    "tags": []
   },
   "outputs": [],
   "source": [
    "for col in col_nao_necessarias_eleitorados:\n",
    "    df_eleitorados = df_eleitorados.drop(col, axis=1)"
   ]
  },
  {
   "cell_type": "code",
   "execution_count": 6,
   "id": "80326370-9274-45e9-a271-5e12ea6fc84c",
   "metadata": {
    "tags": []
   },
   "outputs": [],
   "source": [
    "for col_ in col_nao_necessarias_resultados:\n",
    "    df_resultados = df_resultados.drop(col_, axis=1)"
   ]
  },
  {
   "cell_type": "markdown",
   "id": "7449d06c-04da-4ae7-a1bf-3037c0c44518",
   "metadata": {
    "tags": []
   },
   "source": [
    "### Query 1 - Em qual município o candidato X foi mais votado;\n"
   ]
  },
  {
   "cell_type": "code",
   "execution_count": 7,
   "id": "386858f3-acd2-4445-a39b-08cf5668e1f5",
   "metadata": {
    "tags": []
   },
   "outputs": [
    {
     "name": "stdout",
     "output_type": "stream",
     "text": [
      "  NM_MUNICIPIO  QT_VOTOS\n",
      "0    SÃO PAULO       171\n"
     ]
    }
   ],
   "source": [
    "# Selecionar o candidato Bruno Covas como exemplo\n",
    "candidato_x = \"BRUNO COVAS\"\n",
    "candidato_df = df_resultados[df_resultados['NM_VOTAVEL'] == candidato_x]\n",
    "\n",
    "#Encontrar o município que mais votou no candidato\n",
    "municipio_mais_votado = candidato_df.groupby('NM_MUNICIPIO')['QT_VOTOS'].max().reset_index()\n",
    "print(municipio_mais_votado)\n",
    "\n",
    "#Comentário: acredito que o número de votos está errado, pois 171 é um valor muito baixo. \n",
    "#O valor em si é de apenas uma row, não consegui achar outra maneira a tempo de somar quantidade de votos. "
   ]
  },
  {
   "cell_type": "markdown",
   "id": "dcf30472-00d1-4ace-8ad6-714f82539a63",
   "metadata": {},
   "source": [
    "### Query 2 - Qual candidato foi mais votado em cada município;"
   ]
  },
  {
   "cell_type": "code",
   "execution_count": 8,
   "id": "a82d7da5-21bf-4fd4-876f-82b2af541f68",
   "metadata": {
    "tags": []
   },
   "outputs": [
    {
     "name": "stdout",
     "output_type": "stream",
     "text": [
      "Candidato mais votado em cada município:\n",
      "         CD_MUNICIPIO                NM_MUNICIPIO     NM_VOTAVEL  QT_VOTOS\n",
      "6173488         61000  EUCLIDES DA CUNHA PAULISTA     NENE LOPES       237\n",
      "2580623         61018                  ADAMANTINA  MARCIO CARDIM       254\n",
      "2621902         61026                      BOREBI      CHIQUINHO       300\n",
      "1266714         61034                      ADOLFO           CHEM       228\n",
      "5366025         61042                      TARUMÃ          OSCAR       183\n",
      "...               ...                         ...            ...       ...\n",
      "1760317         72397                   VIRADOURO    CAL RIBEIRO       219\n",
      "1528679         72419        VISTA ALEGRE DO ALTO   LUIS FIORANI       227\n",
      "3510441         72435                  VOTORANTIM  FABIOLA ALVES       106\n",
      "2497643         72451                 VOTUPORANGA     JORGE SEBA       158\n",
      "5283248         72737      VARGEM GRANDE PAULISTA    JOSUÉ RAMOS       218\n",
      "\n",
      "[645 rows x 4 columns]\n"
     ]
    }
   ],
   "source": [
    "# Filtrar apenas os registros relevantes da base de dados de resultados\n",
    "resultados_relevantes = df_resultados[['CD_MUNICIPIO', 'NM_MUNICIPIO', 'NM_VOTAVEL', 'QT_VOTOS']]\n",
    "\n",
    "# Encontrar o candidato mais votado em cada município\n",
    "candidato_mais_votado_por_municipio = resultados_relevantes.groupby(['CD_MUNICIPIO', 'NM_MUNICIPIO'])['QT_VOTOS'].idxmax()\n",
    "candidatos_mais_votados = resultados_relevantes.loc[candidato_mais_votado_por_municipio][['CD_MUNICIPIO', 'NM_MUNICIPIO', 'NM_VOTAVEL', 'QT_VOTOS']]\n",
    "\n",
    "# Exibir o resultado\n",
    "print(\"Candidato mais votado em cada município:\")\n",
    "print(candidatos_mais_votados)\n",
    "\n",
    "#Comentário: mesma situação da query 1, os números de votos estão baixos"
   ]
  },
  {
   "cell_type": "markdown",
   "id": "3631b8b2-c3fd-4fa9-8778-a84afa868470",
   "metadata": {},
   "source": [
    "### Query 3 - Qual perfil do eleitorado (faixa etária, gênero, grau de escolaridade, etc.) mais votou em cada candidato;\n"
   ]
  },
  {
   "cell_type": "code",
   "execution_count": 10,
   "id": "c56ce586-28c3-424f-89b3-4181a9e1647f",
   "metadata": {
    "tags": []
   },
   "outputs": [
    {
     "name": "stdout",
     "output_type": "stream",
     "text": [
      "Perfil do eleitorado que mais votou em cada candidato:\n",
      "                      NM_VOTAVEL  DS_GENERO                 DS_FAIXA_ETARIA  \\\n",
      "0    ADRIANA GRIFONI DA EDUCAÇÃO   FEMININO  70 a 74 anos                     \n",
      "1                AILTON DO GESSO   FEMININO  70 a 74 anos                     \n",
      "2            ALEXANDRE RODRIGUES  MASCULINO  50 a 54 anos                     \n",
      "3                    ALINE AMARO   FEMININO  55 a 59 anos                     \n",
      "4              ALTAIR DA PADARIA  MASCULINO  75 a 79 anos                     \n",
      "..                           ...        ...                             ...   \n",
      "106                   VERA FARIA   FEMININO  70 a 74 anos                     \n",
      "107                VINÍCIUS LIMA   FEMININO  75 a 79 anos                     \n",
      "108               VIVIAN PELODAN   FEMININO  80 a 84 anos                     \n",
      "109                         ZEMA   FEMININO  30 a 34 anos                     \n",
      "110       ÁDAMO ALVES RADIALISTA   FEMININO  55 a 59 anos                     \n",
      "\n",
      "              DS_GRAU_ESCOLARIDADE  QT_VOTOS  \n",
      "0                       ANALFABETO        11  \n",
      "1    ENSINO FUNDAMENTAL INCOMPLETO         6  \n",
      "2    ENSINO FUNDAMENTAL INCOMPLETO        17  \n",
      "3                     LÊ E ESCREVE        12  \n",
      "4                     LÊ E ESCREVE        35  \n",
      "..                             ...       ...  \n",
      "106  ENSINO FUNDAMENTAL INCOMPLETO        41  \n",
      "107                   LÊ E ESCREVE       325  \n",
      "108                   LÊ E ESCREVE        12  \n",
      "109          ENSINO MÉDIO COMPLETO         5  \n",
      "110  ENSINO FUNDAMENTAL INCOMPLETO        48  \n",
      "\n",
      "[111 rows x 5 columns]\n"
     ]
    }
   ],
   "source": [
    "# Definir amostragem\n",
    "porcentagem_amostra = 0.003\n",
    "\n",
    "# Realizar a amostragem aleatória\n",
    "df_resultados = df_resultados.sample(frac=porcentagem_amostra, random_state=42)\n",
    "\n",
    "# Filtrar apenas os registros relevantes da base de dados de resultados\n",
    "resultados_relevantes = df_resultados[['NM_VOTAVEL', 'NM_MUNICIPIO', 'QT_VOTOS']]\n",
    "\n",
    "# Juntar com as informações da base de dados de eleitorados para obter os detalhes do perfil do eleitorado\n",
    "resultados_com_perfil = pd.merge(resultados_relevantes, df_eleitorados, left_on='NM_MUNICIPIO', right_on='NM_MUNICIPIO', how='inner')\n",
    "\n",
    "# Agrupar os resultados por candidato e perfil do eleitorado, calculando a quantidade total de votos por perfil\n",
    "perfil_eleitorado_mais_votou = resultados_com_perfil.groupby(['NM_VOTAVEL', 'DS_GENERO', 'DS_FAIXA_ETARIA', 'DS_GRAU_ESCOLARIDADE'])['QT_VOTOS'].sum().reset_index()\n",
    "\n",
    "# Para cada candidato, encontrar o perfil do eleitorado que mais votou\n",
    "perfil_mais_votou_por_candidato = perfil_eleitorado_mais_votou.groupby('NM_VOTAVEL', as_index=False).apply(lambda group: group.loc[group['QT_VOTOS'].idxmax()])\n",
    "\n",
    "# Exibir o resultado\n",
    "print(\"Perfil do eleitorado que mais votou em cada candidato:\")\n",
    "print(perfil_mais_votou_por_candidato[['NM_VOTAVEL', 'DS_GENERO', 'DS_FAIXA_ETARIA', 'DS_GRAU_ESCOLARIDADE', 'QT_VOTOS']])\n",
    "\n",
    "#Comentário: na query 3 pode-se observar que o resultado ficou divido em duas tabelas, não consegui dar merge nas duas."
   ]
  },
  {
   "cell_type": "code",
   "execution_count": null,
   "id": "ee7a8356-58f5-4736-bc35-8db2d43b99cb",
   "metadata": {},
   "outputs": [],
   "source": []
  },
  {
   "cell_type": "code",
   "execution_count": null,
   "id": "5cb4f8ba-e5f7-4e58-9748-b809c2e9f358",
   "metadata": {},
   "outputs": [],
   "source": []
  },
  {
   "cell_type": "code",
   "execution_count": null,
   "id": "33133816-d02e-4718-917c-3bbb52c47a00",
   "metadata": {},
   "outputs": [],
   "source": []
  },
  {
   "cell_type": "code",
   "execution_count": null,
   "id": "99350e81-e5b2-470e-a268-a5ad8dab7b06",
   "metadata": {},
   "outputs": [],
   "source": []
  },
  {
   "cell_type": "code",
   "execution_count": null,
   "id": "4c652fbe-9a45-4900-983b-33453e60e96b",
   "metadata": {},
   "outputs": [],
   "source": []
  },
  {
   "cell_type": "code",
   "execution_count": null,
   "id": "2ba56ca9-8d7c-45e8-a9fc-b323efb13457",
   "metadata": {},
   "outputs": [],
   "source": []
  },
  {
   "cell_type": "code",
   "execution_count": null,
   "id": "4cacc476-91e4-4b6a-8074-22b032f458b3",
   "metadata": {},
   "outputs": [],
   "source": []
  },
  {
   "cell_type": "code",
   "execution_count": null,
   "id": "56511665-333b-469b-966b-9f0f709e26a0",
   "metadata": {},
   "outputs": [],
   "source": []
  },
  {
   "cell_type": "code",
   "execution_count": null,
   "id": "f45d88f6-1fed-4d00-9545-91083ae7cb99",
   "metadata": {},
   "outputs": [],
   "source": []
  },
  {
   "cell_type": "code",
   "execution_count": null,
   "id": "452cf968-39a1-43b9-99db-75e6ab0e4c21",
   "metadata": {},
   "outputs": [],
   "source": []
  },
  {
   "cell_type": "code",
   "execution_count": null,
   "id": "50e2044a-391f-4459-b025-1698aca9de58",
   "metadata": {},
   "outputs": [],
   "source": []
  },
  {
   "cell_type": "code",
   "execution_count": null,
   "id": "818ede92-6fcc-42d3-97fe-61d07796f241",
   "metadata": {},
   "outputs": [],
   "source": []
  },
  {
   "cell_type": "code",
   "execution_count": null,
   "id": "f849a1b5-3771-4822-95f1-3f1bcf00bb76",
   "metadata": {},
   "outputs": [],
   "source": []
  },
  {
   "cell_type": "code",
   "execution_count": null,
   "id": "03ceba60-3d97-41fa-a802-11e643af0d6a",
   "metadata": {},
   "outputs": [],
   "source": []
  },
  {
   "cell_type": "code",
   "execution_count": null,
   "id": "46281f71-86b4-4f2f-84d5-1f17dd375adb",
   "metadata": {},
   "outputs": [],
   "source": []
  },
  {
   "cell_type": "code",
   "execution_count": null,
   "id": "4961c062-61c4-4a27-abbb-386205055601",
   "metadata": {},
   "outputs": [],
   "source": []
  },
  {
   "cell_type": "code",
   "execution_count": null,
   "id": "044ee119-e126-4014-9e91-ad83683f5da7",
   "metadata": {},
   "outputs": [],
   "source": []
  },
  {
   "cell_type": "code",
   "execution_count": null,
   "id": "3b33e294-7cd0-4805-bf05-1d5631937954",
   "metadata": {},
   "outputs": [],
   "source": []
  },
  {
   "cell_type": "code",
   "execution_count": null,
   "id": "590ddb2e-4e0f-4add-bed4-969757bd29ad",
   "metadata": {},
   "outputs": [],
   "source": []
  },
  {
   "cell_type": "code",
   "execution_count": null,
   "id": "31d4cbb3-0932-4598-87ad-e9826bb40d19",
   "metadata": {},
   "outputs": [],
   "source": []
  },
  {
   "cell_type": "code",
   "execution_count": null,
   "id": "59c757f1-4154-4a84-9102-f1ed086faca3",
   "metadata": {},
   "outputs": [],
   "source": []
  },
  {
   "cell_type": "code",
   "execution_count": null,
   "id": "6962bab4-a82c-4321-a9f7-e7ad699518d5",
   "metadata": {},
   "outputs": [],
   "source": []
  },
  {
   "cell_type": "code",
   "execution_count": null,
   "id": "5f7fd067-36ed-4f34-90e3-c0772b1ef321",
   "metadata": {},
   "outputs": [],
   "source": []
  },
  {
   "cell_type": "code",
   "execution_count": null,
   "id": "023d3cdc-c937-443b-bca2-7f9405f62a1c",
   "metadata": {},
   "outputs": [],
   "source": []
  },
  {
   "cell_type": "code",
   "execution_count": null,
   "id": "18159a19-16ac-475c-8123-e68fcf323f1d",
   "metadata": {},
   "outputs": [],
   "source": []
  },
  {
   "cell_type": "code",
   "execution_count": null,
   "id": "2f558e73-1284-4dce-8d63-c5a99dc25211",
   "metadata": {},
   "outputs": [],
   "source": []
  },
  {
   "cell_type": "code",
   "execution_count": null,
   "id": "cf571e36-acbb-4245-9a4e-fa0d65676931",
   "metadata": {},
   "outputs": [],
   "source": []
  },
  {
   "cell_type": "code",
   "execution_count": null,
   "id": "ea219ef4-5ac9-4ba6-b5bd-90ef955016f3",
   "metadata": {},
   "outputs": [],
   "source": []
  },
  {
   "cell_type": "code",
   "execution_count": null,
   "id": "1f32da45-e5c8-495b-8452-ea4124d2c30d",
   "metadata": {},
   "outputs": [],
   "source": []
  },
  {
   "cell_type": "code",
   "execution_count": null,
   "id": "c3abb91f-6af5-4d0b-83be-c02d61284e2d",
   "metadata": {},
   "outputs": [],
   "source": []
  },
  {
   "cell_type": "code",
   "execution_count": null,
   "id": "b8e0ce81-27d8-4256-9a42-7eaf1461de40",
   "metadata": {},
   "outputs": [],
   "source": []
  },
  {
   "cell_type": "code",
   "execution_count": null,
   "id": "dac247a1-0667-435f-9349-a98c12cdc7e6",
   "metadata": {},
   "outputs": [],
   "source": []
  },
  {
   "cell_type": "code",
   "execution_count": null,
   "id": "88e47831-65ac-455f-8f5f-dc34b950147f",
   "metadata": {},
   "outputs": [],
   "source": []
  },
  {
   "cell_type": "code",
   "execution_count": null,
   "id": "1e881d8c-6efa-4d82-89af-131faf7dcda7",
   "metadata": {},
   "outputs": [],
   "source": []
  },
  {
   "cell_type": "code",
   "execution_count": null,
   "id": "df71bc7c-8374-49be-a626-bfa578f3fff2",
   "metadata": {},
   "outputs": [],
   "source": []
  },
  {
   "cell_type": "code",
   "execution_count": null,
   "id": "75ea999f-04e0-4a97-9b4d-2a69dd8aac1c",
   "metadata": {},
   "outputs": [],
   "source": []
  },
  {
   "cell_type": "code",
   "execution_count": null,
   "id": "0d537549-4b6e-47ab-bda2-9ad6b12eb083",
   "metadata": {},
   "outputs": [],
   "source": []
  },
  {
   "cell_type": "code",
   "execution_count": null,
   "id": "4f68f176-7021-4479-a2c1-e2971fcf0873",
   "metadata": {},
   "outputs": [],
   "source": []
  },
  {
   "cell_type": "code",
   "execution_count": null,
   "id": "64b3a210-d47c-4485-af40-9dacdd65a63f",
   "metadata": {},
   "outputs": [],
   "source": []
  },
  {
   "cell_type": "code",
   "execution_count": null,
   "id": "3fbe6bac-8255-4754-93c6-1d105707641f",
   "metadata": {},
   "outputs": [],
   "source": []
  },
  {
   "cell_type": "code",
   "execution_count": null,
   "id": "45582087-2d6a-4bb4-b740-e515708b8e97",
   "metadata": {},
   "outputs": [],
   "source": []
  },
  {
   "cell_type": "code",
   "execution_count": null,
   "id": "a6ffdd2d-5bba-4be5-8a5a-37bbd023e0f9",
   "metadata": {},
   "outputs": [],
   "source": []
  },
  {
   "cell_type": "code",
   "execution_count": null,
   "id": "e612e4f7-bc8d-4f4b-b3ed-1d63314859df",
   "metadata": {},
   "outputs": [],
   "source": []
  },
  {
   "cell_type": "code",
   "execution_count": null,
   "id": "b55551e9-c106-4e35-b555-3ddc6f290221",
   "metadata": {},
   "outputs": [],
   "source": []
  },
  {
   "cell_type": "code",
   "execution_count": null,
   "id": "c510a971-7e8d-4ed0-a1cc-b79e19a26738",
   "metadata": {},
   "outputs": [],
   "source": []
  },
  {
   "cell_type": "code",
   "execution_count": null,
   "id": "8aeca3c9-6c7e-4d63-90a2-39aa29574ede",
   "metadata": {},
   "outputs": [],
   "source": []
  },
  {
   "cell_type": "code",
   "execution_count": null,
   "id": "b2bcf253-b2a1-43d8-9e6d-3b5f999539c3",
   "metadata": {},
   "outputs": [],
   "source": []
  },
  {
   "cell_type": "code",
   "execution_count": null,
   "id": "a0ec8484-fcfd-478c-998a-88f87abc2182",
   "metadata": {},
   "outputs": [],
   "source": []
  },
  {
   "cell_type": "code",
   "execution_count": null,
   "id": "1d0dbfda-3294-4603-8e8a-431712c7b1b2",
   "metadata": {},
   "outputs": [],
   "source": []
  },
  {
   "cell_type": "code",
   "execution_count": null,
   "id": "9be80561-46cd-49f2-bbda-3c39a84a6be2",
   "metadata": {},
   "outputs": [],
   "source": []
  },
  {
   "cell_type": "code",
   "execution_count": null,
   "id": "474b5d26-ac34-4d86-bbeb-a4582f9a6461",
   "metadata": {},
   "outputs": [],
   "source": []
  },
  {
   "cell_type": "code",
   "execution_count": null,
   "id": "265f2ff4-0ef3-4d2a-b92c-22a8446ce142",
   "metadata": {},
   "outputs": [],
   "source": []
  },
  {
   "cell_type": "code",
   "execution_count": null,
   "id": "3926c79c-9e65-4080-ae0c-6f79f12918fc",
   "metadata": {},
   "outputs": [],
   "source": []
  },
  {
   "cell_type": "code",
   "execution_count": null,
   "id": "7905ad78-67e4-4d6e-9ab3-3c262971e3fb",
   "metadata": {},
   "outputs": [],
   "source": []
  },
  {
   "cell_type": "code",
   "execution_count": null,
   "id": "00e16a6f-03ba-45be-a459-59309dd3e84b",
   "metadata": {},
   "outputs": [],
   "source": []
  },
  {
   "cell_type": "code",
   "execution_count": null,
   "id": "f9d54a61-e29f-41fa-a830-8dd78c574a55",
   "metadata": {},
   "outputs": [],
   "source": []
  },
  {
   "cell_type": "code",
   "execution_count": null,
   "id": "f13c83f2-2c15-4b8e-b9b3-b6a892d79605",
   "metadata": {},
   "outputs": [],
   "source": []
  },
  {
   "cell_type": "code",
   "execution_count": null,
   "id": "f4b67c06-db4d-449a-9ee7-84b5bfcb823f",
   "metadata": {},
   "outputs": [],
   "source": []
  },
  {
   "cell_type": "code",
   "execution_count": null,
   "id": "48feaf84-eb25-4788-8fe0-19ccb4c027d4",
   "metadata": {},
   "outputs": [],
   "source": []
  },
  {
   "cell_type": "code",
   "execution_count": null,
   "id": "b2bb78e8-abac-4490-9446-1a9a78d9e292",
   "metadata": {},
   "outputs": [],
   "source": []
  },
  {
   "cell_type": "code",
   "execution_count": null,
   "id": "c8edc4ec-10e4-4e9d-a130-c3323e6a696d",
   "metadata": {},
   "outputs": [],
   "source": []
  },
  {
   "cell_type": "code",
   "execution_count": null,
   "id": "3047a68e-bf90-4d30-98d0-2a42bd8d4f7f",
   "metadata": {},
   "outputs": [],
   "source": []
  },
  {
   "cell_type": "code",
   "execution_count": null,
   "id": "2dd6344f-7e7d-4217-9af0-74684b575669",
   "metadata": {},
   "outputs": [],
   "source": []
  },
  {
   "cell_type": "code",
   "execution_count": null,
   "id": "afd3b869-5c60-4803-a685-e1d093fb0dfe",
   "metadata": {},
   "outputs": [],
   "source": []
  },
  {
   "cell_type": "code",
   "execution_count": null,
   "id": "4054c913-52a2-43ee-a4db-752c79748b3a",
   "metadata": {},
   "outputs": [],
   "source": []
  },
  {
   "cell_type": "code",
   "execution_count": null,
   "id": "49581af8-9d28-402f-b1b6-1d92f9165594",
   "metadata": {},
   "outputs": [],
   "source": []
  },
  {
   "cell_type": "code",
   "execution_count": null,
   "id": "9395a7ff-8fce-4c6c-a0a0-6a879221527e",
   "metadata": {},
   "outputs": [],
   "source": []
  },
  {
   "cell_type": "code",
   "execution_count": null,
   "id": "25dcf585-99dd-442d-b014-5aae51e8c7fd",
   "metadata": {},
   "outputs": [],
   "source": []
  },
  {
   "cell_type": "code",
   "execution_count": null,
   "id": "5f1af7e1-6593-401c-840c-1797564d6cf5",
   "metadata": {},
   "outputs": [],
   "source": []
  },
  {
   "cell_type": "code",
   "execution_count": null,
   "id": "c50921a6-ad26-4ed6-b150-d5c0a1c353e8",
   "metadata": {},
   "outputs": [],
   "source": []
  },
  {
   "cell_type": "code",
   "execution_count": null,
   "id": "e6615e56-3ace-4fe7-bcff-81d8a79ad9c5",
   "metadata": {},
   "outputs": [],
   "source": []
  },
  {
   "cell_type": "code",
   "execution_count": null,
   "id": "04a0f153-93b7-4f81-b689-d3bcc85e3c2f",
   "metadata": {},
   "outputs": [],
   "source": []
  },
  {
   "cell_type": "code",
   "execution_count": null,
   "id": "2bec14a3-2b18-4e05-9c56-c895a090cd41",
   "metadata": {},
   "outputs": [],
   "source": []
  },
  {
   "cell_type": "code",
   "execution_count": null,
   "id": "2316cfae-4d66-4de2-9f1a-c44a76defdef",
   "metadata": {},
   "outputs": [],
   "source": []
  },
  {
   "cell_type": "code",
   "execution_count": null,
   "id": "7fe67b48-1e99-4d58-88d3-e8bf1d66c93c",
   "metadata": {},
   "outputs": [],
   "source": []
  },
  {
   "cell_type": "code",
   "execution_count": null,
   "id": "0416e0ef-cee6-42c9-a1cd-b134fafcc799",
   "metadata": {},
   "outputs": [],
   "source": []
  },
  {
   "cell_type": "code",
   "execution_count": null,
   "id": "bb2daf9c-6d28-40db-8be5-19c2612cf37c",
   "metadata": {},
   "outputs": [],
   "source": []
  },
  {
   "cell_type": "code",
   "execution_count": null,
   "id": "f7a7428e-2eeb-4a55-ad93-c778c3071272",
   "metadata": {},
   "outputs": [],
   "source": []
  },
  {
   "cell_type": "code",
   "execution_count": null,
   "id": "0ec252ce-f2c4-4607-aad5-b836395c3234",
   "metadata": {},
   "outputs": [],
   "source": []
  }
 ],
 "metadata": {
  "kernelspec": {
   "display_name": "Python 3 (ipykernel)",
   "language": "python",
   "name": "python3"
  },
  "language_info": {
   "codemirror_mode": {
    "name": "ipython",
    "version": 3
   },
   "file_extension": ".py",
   "mimetype": "text/x-python",
   "name": "python",
   "nbconvert_exporter": "python",
   "pygments_lexer": "ipython3",
   "version": "3.11.4"
  }
 },
 "nbformat": 4,
 "nbformat_minor": 5
}
