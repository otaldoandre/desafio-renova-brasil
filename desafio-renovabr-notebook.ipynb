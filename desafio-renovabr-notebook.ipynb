{
 "cells": [
  {
   "cell_type": "code",
   "execution_count": 1,
   "id": "76e354f1",
   "metadata": {
    "tags": []
   },
   "outputs": [],
   "source": [
    "import pandas as pd"
   ]
  },
  {
   "cell_type": "code",
   "execution_count": 2,
   "id": "845aaa03-8e05-48ec-8e6f-35c8f1dc3616",
   "metadata": {
    "tags": []
   },
   "outputs": [],
   "source": [
    "df_eleitorados = pd.read_csv(\"eleitorado/perfil_eleitorado_2020/perfil_eleitorado_2020.csv\", encoding=\"Latin 1\", quotechar='\"', sep=\";\"  )"
   ]
  },
  {
   "cell_type": "code",
   "execution_count": 3,
   "id": "73f9eb3e-a7af-4e95-9f61-833b0b769100",
   "metadata": {
    "tags": []
   },
   "outputs": [],
   "source": [
    "df_resultados = pd.read_csv(\"resultados/SP_turno_1.csv\", encoding=\"Latin 1\", on_bad_lines='skip', quotechar='\"', sep=\";\")"
   ]
  },
  {
   "cell_type": "code",
   "execution_count": null,
   "id": "94b94ac1-0d85-481a-9976-5a13da72e4bf",
   "metadata": {},
   "outputs": [],
   "source": []
  },
  {
   "cell_type": "code",
   "execution_count": null,
   "id": "310c9a86-f2fa-4a4f-bf67-52fb287a5b12",
   "metadata": {},
   "outputs": [],
   "source": []
  },
  {
   "cell_type": "code",
   "execution_count": null,
   "id": "f28c4858-c624-4118-b080-3bd7c3352fc0",
   "metadata": {},
   "outputs": [],
   "source": []
  },
  {
   "cell_type": "code",
   "execution_count": null,
   "id": "0648b897-2446-491c-a811-e3237f17d767",
   "metadata": {},
   "outputs": [],
   "source": []
  },
  {
   "cell_type": "code",
   "execution_count": null,
   "id": "c2349719-987e-43ae-bc5d-fe903c318f7c",
   "metadata": {},
   "outputs": [],
   "source": []
  },
  {
   "cell_type": "code",
   "execution_count": null,
   "id": "a2767178-0d86-4564-9a60-97fbcf3f6740",
   "metadata": {},
   "outputs": [],
   "source": []
  },
  {
   "cell_type": "code",
   "execution_count": null,
   "id": "386e2a31-453c-4a5e-ad8f-2d5f3484027a",
   "metadata": {},
   "outputs": [],
   "source": []
  },
  {
   "cell_type": "code",
   "execution_count": null,
   "id": "f6c8b0b9-a8c6-4c43-952c-e63be21d8959",
   "metadata": {},
   "outputs": [],
   "source": []
  },
  {
   "cell_type": "code",
   "execution_count": null,
   "id": "07d15bdb-24e5-4b06-b214-0d4a54a0e5c6",
   "metadata": {},
   "outputs": [],
   "source": []
  },
  {
   "cell_type": "code",
   "execution_count": null,
   "id": "db95dcb1-fffa-4c1d-bbd7-a1989f9eab0c",
   "metadata": {},
   "outputs": [],
   "source": []
  },
  {
   "cell_type": "code",
   "execution_count": null,
   "id": "058d1b87-a5c4-48ee-bcb3-2545a0e5249c",
   "metadata": {},
   "outputs": [],
   "source": []
  },
  {
   "cell_type": "code",
   "execution_count": null,
   "id": "2d160a32-ef34-448f-8430-caa18996da18",
   "metadata": {},
   "outputs": [],
   "source": []
  },
  {
   "cell_type": "code",
   "execution_count": null,
   "id": "58223188-f58a-4cce-8d6d-ccf8ce36c412",
   "metadata": {},
   "outputs": [],
   "source": []
  },
  {
   "cell_type": "code",
   "execution_count": null,
   "id": "f3091d76-9e6b-4318-b0a2-a632593eb143",
   "metadata": {},
   "outputs": [],
   "source": []
  },
  {
   "cell_type": "code",
   "execution_count": null,
   "id": "340aef0c-df28-43f1-a710-53bba8eb33d7",
   "metadata": {},
   "outputs": [],
   "source": []
  },
  {
   "cell_type": "code",
   "execution_count": null,
   "id": "a168a03e-428a-4a0a-84d5-c627e9724ddd",
   "metadata": {},
   "outputs": [],
   "source": []
  },
  {
   "cell_type": "code",
   "execution_count": null,
   "id": "9207b83b-f458-4b9d-8b51-c88e15ca9949",
   "metadata": {},
   "outputs": [],
   "source": []
  },
  {
   "cell_type": "code",
   "execution_count": null,
   "id": "ea0759a4-1f12-45d2-80ce-faa66e48ca37",
   "metadata": {},
   "outputs": [],
   "source": []
  },
  {
   "cell_type": "code",
   "execution_count": null,
   "id": "0964db94-5d01-4ece-b418-725a49750b59",
   "metadata": {},
   "outputs": [],
   "source": []
  },
  {
   "cell_type": "code",
   "execution_count": null,
   "id": "637b553e-f5e3-4daa-9291-8c62c6ac4297",
   "metadata": {},
   "outputs": [],
   "source": []
  },
  {
   "cell_type": "code",
   "execution_count": null,
   "id": "731a4bcd-98b2-4ad1-ab46-b959074af596",
   "metadata": {},
   "outputs": [],
   "source": []
  },
  {
   "cell_type": "code",
   "execution_count": null,
   "id": "2e1aff77-0b18-43f5-80c2-206ce61324f0",
   "metadata": {},
   "outputs": [],
   "source": []
  },
  {
   "cell_type": "code",
   "execution_count": null,
   "id": "3078f497-f389-4468-a963-9345a30cf4f7",
   "metadata": {},
   "outputs": [],
   "source": []
  },
  {
   "cell_type": "code",
   "execution_count": null,
   "id": "2667cb6f-3ba9-4b0c-8b11-42b834485af6",
   "metadata": {},
   "outputs": [],
   "source": []
  },
  {
   "cell_type": "code",
   "execution_count": null,
   "id": "829be12e-1572-423a-9be2-311ad7195664",
   "metadata": {},
   "outputs": [],
   "source": []
  },
  {
   "cell_type": "code",
   "execution_count": null,
   "id": "fe6ee8b4-8cd3-4f82-9ebb-f711ef4b43c5",
   "metadata": {},
   "outputs": [],
   "source": []
  }
 ],
 "metadata": {
  "kernelspec": {
   "display_name": "Python 3 (ipykernel)",
   "language": "python",
   "name": "python3"
  },
  "language_info": {
   "codemirror_mode": {
    "name": "ipython",
    "version": 3
   },
   "file_extension": ".py",
   "mimetype": "text/x-python",
   "name": "python",
   "nbconvert_exporter": "python",
   "pygments_lexer": "ipython3",
   "version": "3.11.4"
  }
 },
 "nbformat": 4,
 "nbformat_minor": 5
}
