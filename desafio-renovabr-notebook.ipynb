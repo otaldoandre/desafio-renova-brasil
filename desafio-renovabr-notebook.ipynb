{
 "cells": [
  {
   "cell_type": "code",
   "execution_count": 1,
   "id": "76e354f1",
   "metadata": {
    "tags": []
   },
   "outputs": [],
   "source": [
    "import pandas as pd"
   ]
  },
  {
   "cell_type": "code",
   "execution_count": 2,
   "id": "be4f4af9-61ee-43d8-aa05-6f3f3e3f894c",
   "metadata": {
    "tags": []
   },
   "outputs": [],
   "source": [
    "df_eleitorados = pd.read_csv(\"eleitorado/perfil_eleitorado_2020/perfil_eleitorado_2020.csv\", encoding=\"Latin 1\", quotechar='\"', sep=\";\"  )"
   ]
  },
  {
   "cell_type": "code",
   "execution_count": 3,
   "id": "3efe9bcc-ffdf-49ef-b1da-de41f360e8ce",
   "metadata": {
    "tags": []
   },
   "outputs": [],
   "source": [
    "df_resultados = pd.read_csv(\"resultados/SP_turno_1.csv\", encoding=\"Latin 1\", on_bad_lines='skip', quotechar='\"', sep=\";\")"
   ]
  },
  {
   "cell_type": "markdown",
   "id": "1dce25f0-edb9-45bd-b0bb-d472b80fc699",
   "metadata": {
    "tags": []
   },
   "source": [
    "### Tratar Dados"
   ]
  },
  {
   "cell_type": "code",
   "execution_count": 4,
   "id": "f61c4acd-25a3-41bf-a52d-25d65a7e0af2",
   "metadata": {
    "tags": []
   },
   "outputs": [],
   "source": [
    "# Definir colunas que não são úteis para as queries\n",
    "col_nao_necessarias_eleitorados = [\"DT_GERACAO\", \"HH_GERACAO\", \"ANO_ELEICAO\", \"CD_MUN_SIT_BIOMETRIA\", \"DS_MUN_SIT_BIOMETRIA\", \"QT_ELEITORES_BIOMETRIA\", \"QT_ELEITORES_DEFICIENCIA\", \"QT_ELEITORES_INC_NM_SOCIAL\", \"SG_UF\"]\n",
    "col_nao_necessarias_resultados = [\"DT_GERACAO\", \"HH_GERACAO\", \"ANO_ELEICAO\", \"CD_TIPO_ELEICAO\", \"NM_TIPO_ELEICAO\", \"DT_PLEITO\", \"NR_TURNO\", \"DS_ELEICAO\", \"SG_UF\", \"DS_CARGO_PERGUNTA\", \"DT_BU_RECEBIDO\", \"QT_ABSTENCOES\", \"CD_TIPO_URNA\", \"DS_TIPO_URNA\", \"NR_URNA_EFETIVADA\", \"CD_CARGA_1_URNA_EFETIVADA\", \"CD_CARGA_2_URNA_EFETIVADA\", \"CD_FLASHCARD_URNA_EFETIVADA\", \"DT_CARGA_URNA_EFETIVADA\", \"DS_AGREGADAS\", \"DT_ABERTURA\", \"DT_ENCERRAMENTO\", \"QT_ELEITORES_BIOMETRIA_NH\", \"NR_JUNTA_APURADORA\", \"NR_TURMA_APURADORA\", \"DT_EMISSAO_BU\"]\n"
   ]
  },
  {
   "cell_type": "code",
   "execution_count": 5,
   "id": "e4632574-ca04-4513-ba5b-6d858acce46b",
   "metadata": {
    "tags": []
   },
   "outputs": [],
   "source": [
    "# Remover colunas do dataframe que não serão utilizadas \n",
    "for col in col_nao_necessarias_eleitorados:\n",
    "    df_eleitorados = df_eleitorados.drop(col, axis=1)"
   ]
  },
  {
   "cell_type": "code",
   "execution_count": 6,
   "id": "80326370-9274-45e9-a271-5e12ea6fc84c",
   "metadata": {
    "tags": []
   },
   "outputs": [],
   "source": [
    "# Remover colunas do dataframe que não serão utilizadas\n",
    "for col_ in col_nao_necessarias_resultados:\n",
    "    df_resultados = df_resultados.drop(col_, axis=1)\n",
    "\n",
    "# No final deste processo, os dataframes estão com os dados tratados e prontos para serem utilizados. "
   ]
  },
  {
   "cell_type": "markdown",
   "id": "7449d06c-04da-4ae7-a1bf-3037c0c44518",
   "metadata": {
    "tags": []
   },
   "source": [
    "### Query 1 - Em qual município o candidato X foi mais votado;\n"
   ]
  },
  {
   "cell_type": "code",
   "execution_count": 7,
   "id": "386858f3-acd2-4445-a39b-08cf5668e1f5",
   "metadata": {
    "tags": []
   },
   "outputs": [
    {
     "name": "stdout",
     "output_type": "stream",
     "text": [
      "  NM_MUNICIPIO  QT_VOTOS\n",
      "0    SÃO PAULO       171\n"
     ]
    }
   ],
   "source": [
    "# Selecionar o candidato Bruno Covas como exemplo\n",
    "candidato_x = \"BRUNO COVAS\"\n",
    "candidato_df = df_resultados[df_resultados['NM_VOTAVEL'] == candidato_x]\n",
    "\n",
    "#Encontrar o município que mais votou no candidato\n",
    "municipio_mais_votado = candidato_df.groupby('NM_MUNICIPIO')['QT_VOTOS'].max().reset_index()\n",
    "print(municipio_mais_votado)\n",
    "\n",
    "#Comentário: acredito que o número de votos está errado, pois 171 é um valor muito baixo. \n",
    "#O valor em si é de apenas uma row, não consegui achar outra maneira a tempo de somar quantidade de votos. "
   ]
  },
  {
   "cell_type": "markdown",
   "id": "dcf30472-00d1-4ace-8ad6-714f82539a63",
   "metadata": {},
   "source": [
    "### Query 2 - Qual candidato foi mais votado em cada município;"
   ]
  },
  {
   "cell_type": "code",
   "execution_count": 8,
   "id": "a82d7da5-21bf-4fd4-876f-82b2af541f68",
   "metadata": {
    "tags": []
   },
   "outputs": [
    {
     "name": "stdout",
     "output_type": "stream",
     "text": [
      "Candidato mais votado em cada município:\n",
      "         CD_MUNICIPIO                NM_MUNICIPIO     NM_VOTAVEL  QT_VOTOS\n",
      "6173488         61000  EUCLIDES DA CUNHA PAULISTA     NENE LOPES       237\n",
      "2580623         61018                  ADAMANTINA  MARCIO CARDIM       254\n",
      "2621902         61026                      BOREBI      CHIQUINHO       300\n",
      "1266714         61034                      ADOLFO           CHEM       228\n",
      "5366025         61042                      TARUMÃ          OSCAR       183\n",
      "...               ...                         ...            ...       ...\n",
      "1760317         72397                   VIRADOURO    CAL RIBEIRO       219\n",
      "1528679         72419        VISTA ALEGRE DO ALTO   LUIS FIORANI       227\n",
      "3510441         72435                  VOTORANTIM  FABIOLA ALVES       106\n",
      "2497643         72451                 VOTUPORANGA     JORGE SEBA       158\n",
      "5283248         72737      VARGEM GRANDE PAULISTA    JOSUÉ RAMOS       218\n",
      "\n",
      "[645 rows x 4 columns]\n"
     ]
    }
   ],
   "source": [
    "# Filtrar apenas os registros relevantes da base de dados de resultados\n",
    "resultados_relevantes = df_resultados[['CD_MUNICIPIO', 'NM_MUNICIPIO', 'NM_VOTAVEL', 'QT_VOTOS']]\n",
    "\n",
    "# Encontrar o candidato mais votado em cada município\n",
    "candidato_mais_votado_por_municipio = resultados_relevantes.groupby(['CD_MUNICIPIO', 'NM_MUNICIPIO'])['QT_VOTOS'].idxmax()\n",
    "candidatos_mais_votados = resultados_relevantes.loc[candidato_mais_votado_por_municipio][['CD_MUNICIPIO', 'NM_MUNICIPIO', 'NM_VOTAVEL', 'QT_VOTOS']]\n",
    "\n",
    "# Exibir o resultado\n",
    "print(\"Candidato mais votado em cada município:\")\n",
    "print(candidatos_mais_votados)\n",
    "\n",
    "#Comentário: mesma situação da query 1, os números de votos estão baixos."
   ]
  },
  {
   "cell_type": "markdown",
   "id": "3631b8b2-c3fd-4fa9-8778-a84afa868470",
   "metadata": {},
   "source": [
    "### Query 3 - Qual perfil do eleitorado (faixa etária, gênero, grau de escolaridade, etc.) mais votou em cada candidato;\n"
   ]
  },
  {
   "cell_type": "code",
   "execution_count": 10,
   "id": "c56ce586-28c3-424f-89b3-4181a9e1647f",
   "metadata": {
    "tags": []
   },
   "outputs": [
    {
     "name": "stdout",
     "output_type": "stream",
     "text": [
      "Perfil do eleitorado que mais votou em cada candidato:\n",
      "                      NM_VOTAVEL  DS_GENERO                 DS_FAIXA_ETARIA  \\\n",
      "0    ADRIANA GRIFONI DA EDUCAÇÃO   FEMININO  70 a 74 anos                     \n",
      "1                AILTON DO GESSO   FEMININO  70 a 74 anos                     \n",
      "2            ALEXANDRE RODRIGUES  MASCULINO  50 a 54 anos                     \n",
      "3                    ALINE AMARO   FEMININO  55 a 59 anos                     \n",
      "4              ALTAIR DA PADARIA  MASCULINO  75 a 79 anos                     \n",
      "..                           ...        ...                             ...   \n",
      "106                   VERA FARIA   FEMININO  70 a 74 anos                     \n",
      "107                VINÍCIUS LIMA   FEMININO  75 a 79 anos                     \n",
      "108               VIVIAN PELODAN   FEMININO  80 a 84 anos                     \n",
      "109                         ZEMA   FEMININO  30 a 34 anos                     \n",
      "110       ÁDAMO ALVES RADIALISTA   FEMININO  55 a 59 anos                     \n",
      "\n",
      "              DS_GRAU_ESCOLARIDADE  QT_VOTOS  \n",
      "0                       ANALFABETO        11  \n",
      "1    ENSINO FUNDAMENTAL INCOMPLETO         6  \n",
      "2    ENSINO FUNDAMENTAL INCOMPLETO        17  \n",
      "3                     LÊ E ESCREVE        12  \n",
      "4                     LÊ E ESCREVE        35  \n",
      "..                             ...       ...  \n",
      "106  ENSINO FUNDAMENTAL INCOMPLETO        41  \n",
      "107                   LÊ E ESCREVE       325  \n",
      "108                   LÊ E ESCREVE        12  \n",
      "109          ENSINO MÉDIO COMPLETO         5  \n",
      "110  ENSINO FUNDAMENTAL INCOMPLETO        48  \n",
      "\n",
      "[111 rows x 5 columns]\n"
     ]
    }
   ],
   "source": [
    "# Definir amostragem\n",
    "porcentagem_amostra = 0.003\n",
    "\n",
    "# Realizar a amostragem aleatória\n",
    "df_resultados = df_resultados.sample(frac=porcentagem_amostra, random_state=42)\n",
    "\n",
    "# Filtrar apenas os registros relevantes da base de dados de resultados\n",
    "resultados_relevantes = df_resultados[['NM_VOTAVEL', 'NM_MUNICIPIO', 'QT_VOTOS']]\n",
    "\n",
    "# Juntar com as informações da base de dados de eleitorados para obter os detalhes do perfil do eleitorado\n",
    "resultados_com_perfil = pd.merge(resultados_relevantes, df_eleitorados, left_on='NM_MUNICIPIO', right_on='NM_MUNICIPIO', how='inner')\n",
    "\n",
    "# Agrupar os resultados por candidato e perfil do eleitorado, calculando a quantidade total de votos por perfil\n",
    "perfil_eleitorado_mais_votou = resultados_com_perfil.groupby(['NM_VOTAVEL', 'DS_GENERO', 'DS_FAIXA_ETARIA', 'DS_GRAU_ESCOLARIDADE'])['QT_VOTOS'].sum().reset_index()\n",
    "\n",
    "# Para cada candidato, encontrar o perfil do eleitorado que mais votou\n",
    "perfil_mais_votou_por_candidato = perfil_eleitorado_mais_votou.groupby('NM_VOTAVEL', as_index=False).apply(lambda group: group.loc[group['QT_VOTOS'].idxmax()])\n",
    "\n",
    "# Exibir o resultado\n",
    "print(\"Perfil do eleitorado que mais votou em cada candidato:\")\n",
    "print(perfil_mais_votou_por_candidato[['NM_VOTAVEL', 'DS_GENERO', 'DS_FAIXA_ETARIA', 'DS_GRAU_ESCOLARIDADE', 'QT_VOTOS']])\n",
    "\n",
    "#Comentário: na query 3 pode-se observar que o resultado ficou divido em duas tabelas, não consegui dar merge nas duas."
   ]
  },
  {
   "cell_type": "code",
   "execution_count": null,
   "id": "ee7a8356-58f5-4736-bc35-8db2d43b99cb",
   "metadata": {},
   "outputs": [],
   "source": []
  }
 ],
 "metadata": {
  "kernelspec": {
   "display_name": "Python 3 (ipykernel)",
   "language": "python",
   "name": "python3"
  },
  "language_info": {
   "codemirror_mode": {
    "name": "ipython",
    "version": 3
   },
   "file_extension": ".py",
   "mimetype": "text/x-python",
   "name": "python",
   "nbconvert_exporter": "python",
   "pygments_lexer": "ipython3",
   "version": "3.11.4"
  }
 },
 "nbformat": 4,
 "nbformat_minor": 5
}
